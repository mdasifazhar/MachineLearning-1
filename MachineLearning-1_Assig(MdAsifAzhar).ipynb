{
 "cells": [
  {
   "cell_type": "markdown",
   "metadata": {},
   "source": [
    "#### 1. What are the three stages to build the hypotheses or model in machine learning?"
   ]
  },
  {
   "cell_type": "markdown",
   "metadata": {},
   "source": [
    "Three stages to build the hypothesis are:-\n",
    "\n",
    "###### a) Model Prepration:- \n",
    "Model prepration is like building any other product. With good model you are likely to achieve your goal with high accuracy"
   ]
  },
  {
   "cell_type": "markdown",
   "metadata": {},
   "source": [
    "###### b) Model Testing\n",
    "Once model is ready then we have to test our model using test set to measure how well the model performs at making predictions on that test data"
   ]
  },
  {
   "cell_type": "markdown",
   "metadata": {},
   "source": [
    "###### c) Applying the Model\n",
    "Once model testing is complete, then our model is ready for use to solve our problems"
   ]
  },
  {
   "cell_type": "markdown",
   "metadata": {},
   "source": [
    "#### 2. What is the standard approach to supervised learning?"
   ]
  },
  {
   "cell_type": "markdown",
   "metadata": {},
   "source": [
    "Supervised learning is a type of machine learning that enables the model to predict future outcomes after \n",
    "they are trained based on past data.\n",
    "Training is done by providing a set of inputs and outputs that help the system understand what the essential \n",
    "features are."
   ]
  },
  {
   "cell_type": "markdown",
   "metadata": {},
   "source": [
    "#### 3. What is Training set and Test set?"
   ]
  },
  {
   "cell_type": "markdown",
   "metadata": {},
   "source": [
    "Training Set:- In machine learning, a training set is a dataset used to train a model.  In training the model, \n",
    "specific features are picked out from the training set.  These features are then incorporated into the model.\n",
    "\n",
    "Test Set:- The test set is a dataset used to measure how well the model performs at making predictions on that test set. "
   ]
  },
  {
   "cell_type": "markdown",
   "metadata": {},
   "source": [
    "#### 4. What is the general principle of an ensemble method and what is bagging and boosting in ensemble method?"
   ]
  },
  {
   "cell_type": "markdown",
   "metadata": {},
   "source": [
    "The general principle of an ensemble method is to combine the predictions of several models built with a given learning algorithm in order to improve robustness over a single model.\n",
    "\n",
    "###### Bagging \n",
    "It is a method in ensemble for improving unstable estimation or classification schemes. Bagging both can reduce errors by reducing the variance term.\n",
    "\n",
    "###### Boosting\n",
    "It is a method are used sequentially to reduce the bias of the combined model. Boosting can reduce errors by reducing the variance term."
   ]
  },
  {
   "cell_type": "markdown",
   "metadata": {},
   "source": [
    "###### 5. How can you avoid overfitting ?"
   ]
  },
  {
   "cell_type": "markdown",
   "metadata": {},
   "source": [
    "Overfitting can be avoided with following ways:-\n",
    "\n",
    "1) Cross Validation :- Use initial training data to generate multiple mini train-test splits. Use these splits to tune the model.\n",
    "\n",
    "2) Add more Test Data:- With small data set there are changes that model will not get the properly\n",
    "\n",
    "3) Ensembling :- By resampling the predictor"
   ]
  },
  {
   "cell_type": "code",
   "execution_count": null,
   "metadata": {},
   "outputs": [],
   "source": []
  }
 ],
 "metadata": {
  "kernelspec": {
   "display_name": "Python 3",
   "language": "python",
   "name": "python3"
  },
  "language_info": {
   "codemirror_mode": {
    "name": "ipython",
    "version": 3
   },
   "file_extension": ".py",
   "mimetype": "text/x-python",
   "name": "python",
   "nbconvert_exporter": "python",
   "pygments_lexer": "ipython3",
   "version": "3.6.5"
  }
 },
 "nbformat": 4,
 "nbformat_minor": 2
}
